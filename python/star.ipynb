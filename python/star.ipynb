{
 "cells": [
  {
   "cell_type": "markdown",
   "id": "aa6b4007",
   "metadata": {},
   "source": [
    "# Solving Gravitational Potential of Spherically Symmetric Star"
   ]
  },
  {
   "cell_type": "code",
   "execution_count": 1,
   "id": "4865f9f8-fdce-4c68-a81a-b34abb2afc33",
   "metadata": {},
   "outputs": [],
   "source": [
    "import time\n",
    "import numpy as np\n",
    "import matplotlib.pyplot as plt\n",
    "from multigrid import BVP, BVPSolver"
   ]
  },
  {
   "cell_type": "markdown",
   "id": "f5da9f33",
   "metadata": {},
   "source": [
    "## Relaxation and Residual for the Differential Operator"
   ]
  },
  {
   "cell_type": "code",
   "execution_count": 2,
   "id": "3f295e18-5979-4ade-81b4-2443cb99c2bc",
   "metadata": {},
   "outputs": [],
   "source": [
    "def relax_left(sol, src, s, h):\n",
    "    return sol[1] - src[0]*h**2/6\n",
    "\n",
    "def relax_middle(sol, src, s, h, i):\n",
    "    return (\n",
    "        + sol[i + 1]*(1 + h/s)\n",
    "        + sol[i - 1]*(1 - h/s)\n",
    "        - src[i]*h**2\n",
    "    )/2\n",
    "\n",
    "def relax_right(sol, src, s, h):\n",
    "    return 0\n",
    "\n",
    "def residual_left(sol, src, s, h):\n",
    "    return -(relax_left(sol, src, s, h) - sol[0])*6/h**2\n",
    "\n",
    "def residual_middle(sol, src, s, h, i):\n",
    "    return -(relax_middle(sol, src, s, h, i) - sol[i])*2/h**2\n",
    "\n",
    "def residual_right(sol, src, s, h):\n",
    "    return 0"
   ]
  },
  {
   "cell_type": "markdown",
   "id": "e51467dc",
   "metadata": {},
   "source": [
    "## Functions for the Source and the Exact Solution"
   ]
  },
  {
   "cell_type": "code",
   "execution_count": 3,
   "id": "13adbaf8",
   "metadata": {},
   "outputs": [],
   "source": [
    "rho_c = 1.28e-3\n",
    "N = 1\n",
    "K = 100\n",
    "alpha_sq = (N + 1)*K*rho_c**(1/N  - 1)/(4*np.pi)\n",
    "r_s_sq = np.pi**2*alpha_sq\n",
    "\n",
    "def src(s):\n",
    "    if s < 0.5:\n",
    "        rho = rho_c*np.sinc(s/(1 - s))\n",
    "        return 4*np.pi*rho*r_s_sq/(1 - s)**4\n",
    "    else:\n",
    "        return 0\n",
    "\n",
    "def exact_sol(s):\n",
    "    if s < 0.5:\n",
    "        factor = 1 + np.sinc(s/(1 - s))\n",
    "    else:\n",
    "        factor = (1 - s)/s\n",
    "    return -4*np.pi*rho_c*alpha_sq*factor"
   ]
  },
  {
   "cell_type": "markdown",
   "id": "cd845927",
   "metadata": {},
   "source": [
    "## Define Boundary Value Problem"
   ]
  },
  {
   "cell_type": "code",
   "execution_count": 4,
   "id": "2271bdf5-7698-4397-a848-7f7844884259",
   "metadata": {},
   "outputs": [],
   "source": [
    "s1 = 0\n",
    "s2 = 1\n",
    "bvp = BVP((s1, s2), relax_left, relax_middle, relax_right, residual_left, residual_middle, residual_right, src, exact_sol_func=exact_sol)"
   ]
  },
  {
   "cell_type": "markdown",
   "id": "60528455",
   "metadata": {},
   "source": [
    "## Set Multigrid Solver"
   ]
  },
  {
   "cell_type": "code",
   "execution_count": 5,
   "id": "e4926a3c",
   "metadata": {},
   "outputs": [],
   "source": [
    "n = 16\n",
    "solver = BVPSolver(bvp, n, num_iter=(4,1,4))"
   ]
  },
  {
   "cell_type": "markdown",
   "id": "15725599",
   "metadata": {},
   "source": [
    "## Solving"
   ]
  },
  {
   "cell_type": "code",
   "execution_count": 6,
   "id": "1b9a90f4",
   "metadata": {},
   "outputs": [
    {
     "name": "stdout",
     "output_type": "stream",
     "text": [
      "0 3.561445406003263e-06 0.012873537244631226\n",
      "1 2.0892634729372169e-07 0.00048814595042558735\n",
      "2 1.4498042973508759e-08 1.8266111641201493e-05\n",
      "3 1.0447766459422925e-09 6.848598709514409e-07\n",
      "4 7.140074277539586e-11 2.5021106020856238e-08\n",
      "5 4.8348508670143885e-12 1.806073643239264e-09\n",
      "6 1.3826137147955577e-12 1.3053887932481263e-09\n",
      "7 9.819574883223643e-13 1.1781972239580108e-09\n",
      "8 9.349359594100613e-13 1.1363148002269608e-09\n",
      "9 8.543241430906275e-13 1.1294324758311582e-09\n",
      "time : 1.9284177780151368 s\n"
     ]
    }
   ],
   "source": [
    "number_of_iter = 10\n",
    "start = time.time()\n",
    "for i in range(number_of_iter):\n",
    "    solver.solve()\n",
    "    res_rms = solver.residual().rms()\n",
    "    print(i, res_rms/2**n, solver.exact_error().rms())\n",
    "print(\"time : {} s\".format((time.time() - start)/number_of_iter))"
   ]
  },
  {
   "cell_type": "markdown",
   "id": "4f74b6e9",
   "metadata": {},
   "source": [
    "## Plot Solution"
   ]
  },
  {
   "cell_type": "code",
   "execution_count": 7,
   "id": "3920bb3b-4f52-4c8f-a0a4-37fbd4e5a817",
   "metadata": {},
   "outputs": [
    {
     "data": {
      "text/plain": [
       "[<matplotlib.lines.Line2D at 0x7f7ded084580>]"
      ]
     },
     "execution_count": 7,
     "metadata": {},
     "output_type": "execute_result"
    },
    {
     "data": {
      "image/png": "[encoded data removed]",
      "text/plain": [
       "<Figure size 432x288 with 1 Axes>"
      ]
     },
     "metadata": {
      "needs_background": "light"
     },
     "output_type": "display_data"
    }
   ],
   "source": [
    "plt.plot(solver.sol_grid.x, solver.sol_grid.val)"
   ]
  }
 ],
 "metadata": {
  "kernelspec": {
   "display_name": "Python 3.9.13 ('venv': venv)",
   "language": "python",
   "name": "python3"
  },
  "language_info": {
   "codemirror_mode": {
    "name": "ipython",
    "version": 3
   },
   "file_extension": ".py",
   "mimetype": "text/x-python",
   "name": "python",
   "nbconvert_exporter": "python",
   "pygments_lexer": "ipython3",
   "version": "3.9.13"
  },
  "vscode": {
   "interpreter": {
    "hash": "94acf0db5c9694a47ace1f3b99950a1b5197d6c9b79eac18af25cc1fa2f09c15"
   }
  }
 },
 "nbformat": 4,
 "nbformat_minor": 5
}
