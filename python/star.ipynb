{
 "cells": [
  {
   "cell_type": "markdown",
   "id": "aa6b4007",
   "metadata": {},
   "source": [
    "# Solving Gravitational Potential of Spherically Symmetric Star"
   ]
  },
  {
   "cell_type": "code",
   "execution_count": 1,
   "id": "4865f9f8-fdce-4c68-a81a-b34abb2afc33",
   "metadata": {},
   "outputs": [],
   "source": [
    "import numpy as np\n",
    "import matplotlib.pyplot as plt\n",
    "from multigrid import BVP, BVPSolver"
   ]
  },
  {
   "cell_type": "markdown",
   "id": "f5da9f33",
   "metadata": {},
   "source": [
    "## Relaxation and Residual for the Differential Operator"
   ]
  },
  {
   "cell_type": "code",
   "execution_count": 2,
   "id": "3f295e18-5979-4ade-81b4-2443cb99c2bc",
   "metadata": {},
   "outputs": [],
   "source": [
    "def relax_left(sol, src, s, h):\n",
    "    return sol[1] - src[0]*h**2/6\n",
    "\n",
    "def relax_middle(sol, src, s, h, i):\n",
    "    return (\n",
    "        + sol[i + 1]*(1 + h/s)\n",
    "        + sol[i - 1]*(1 - h/s)\n",
    "        - src[i]*h**2\n",
    "    )/2\n",
    "\n",
    "def relax_right(sol, src, s, h):\n",
    "    return 0\n",
    "\n",
    "def residual_left(sol, src, s, h):\n",
    "    return -(relax_left(sol, src, s, h) - sol[0])*6/h**2\n",
    "\n",
    "def residual_middle(sol, src, s, h, i):\n",
    "    return -(relax_middle(sol, src, s, h, i) - sol[i])*2/h**2\n",
    "\n",
    "def residual_right(sol, src, s, h):\n",
    "    return 0"
   ]
  },
  {
   "cell_type": "markdown",
   "id": "e51467dc",
   "metadata": {},
   "source": [
    "## Functions for the Source and the Exact Solution"
   ]
  },
  {
   "cell_type": "code",
   "execution_count": 3,
   "id": "13adbaf8",
   "metadata": {},
   "outputs": [],
   "source": [
    "r_s = 8\n",
    "rho_c = 1.28e-3\n",
    "\n",
    "def src(s):\n",
    "    if s < 0.5:\n",
    "        rho = rho_c*(1 - (s / (1 - s))**2)\n",
    "        return 4*np.pi*rho*r_s**2*(1 - s)**(-4)\n",
    "    else:\n",
    "        return 0\n",
    "\n",
    "def exact_sol(s):\n",
    "    if s < 0.5:\n",
    "        a = s/(1 - s)\n",
    "        return -2*np.pi*rho_c*r_s**2*(1/2 - a**2/3 + a**4/10)\n",
    "    else:\n",
    "        return -8/15*np.pi*rho_c*r_s**2*(1 - s)/s"
   ]
  },
  {
   "cell_type": "markdown",
   "id": "cd845927",
   "metadata": {},
   "source": [
    "## Define Boundary Value Problem"
   ]
  },
  {
   "cell_type": "code",
   "execution_count": 4,
   "id": "2271bdf5-7698-4397-a848-7f7844884259",
   "metadata": {},
   "outputs": [],
   "source": [
    "s1 = 0\n",
    "s2 = 1\n",
    "bvp = BVP((s1, s2), relax_left, relax_middle, relax_right, residual_left, residual_middle, residual_right, src, exact_sol_func=exact_sol)"
   ]
  },
  {
   "cell_type": "markdown",
   "id": "60528455",
   "metadata": {},
   "source": [
    "## Set Multigrid Solver"
   ]
  },
  {
   "cell_type": "code",
   "execution_count": 5,
   "id": "e4926a3c",
   "metadata": {},
   "outputs": [],
   "source": [
    "n = 9\n",
    "solver = BVPSolver(bvp, n)"
   ]
  },
  {
   "cell_type": "markdown",
   "id": "15725599",
   "metadata": {},
   "source": [
    "## Solving"
   ]
  },
  {
   "cell_type": "code",
   "execution_count": 6,
   "id": "1b9a90f4",
   "metadata": {},
   "outputs": [
    {
     "name": "stdout",
     "output_type": "stream",
     "text": [
      "1 95.59857865968418 0.03256095894350033\n",
      "2 35.99049153881337 0.005391481019824093\n",
      "3 14.223967026109426 0.0009506034402093006\n",
      "4 4.416259982880007 0.00020799620328856147\n",
      "5 1.2912527935097853 4.015851558688849e-05\n",
      "6 0.35990980666482264 1.9478664031008533e-05\n",
      "7 0.10027122775500294 4.760208483762595e-06\n",
      "8 0.027619609393479357 8.466604426025501e-06\n",
      "9 0.007524937662512082 7.455046942248711e-06\n",
      "10 0.0020515947978877553 7.725881614171963e-06\n",
      "11 0.0005573473345277565 7.652497178595608e-06\n",
      "12 0.00015060769922478308 7.672406219295788e-06\n",
      "13 4.0765418681642646e-05 7.666998025713206e-06\n",
      "14 1.1044961048493434e-05 7.668466676832012e-06\n",
      "15 2.99261074809317e-06 7.668068078499666e-06\n",
      "16 8.111205050062502e-07 7.668176125860751e-06\n",
      "17 2.1983531526019273e-07 7.668146872956692e-06\n",
      "18 5.951944071940654e-08 7.668154744083743e-06\n",
      "19 1.612699976989472e-08 7.668152652685992e-06\n",
      "20 4.394324990141965e-09 7.668153171998941e-06\n",
      "21 1.1558446308346219e-09 7.66815310127547e-06\n",
      "22 2.944934036703235e-10 7.668153089351182e-06\n",
      "23 8.196553251607671e-11 7.668153121840245e-06\n",
      "24 2.2413322629238413e-11 7.668153129007108e-06\n",
      "25 1.6892235115651156e-11 7.66815311784015e-06\n",
      "26 7.753653348339619e-12 7.668153105452419e-06\n"
     ]
    }
   ],
   "source": [
    "i = 0\n",
    "while True:\n",
    "    i += 1\n",
    "    solver.solve()\n",
    "    res_rms = solver.residual().rms()\n",
    "    print(i, res_rms, solver.exact_error().rms())\n",
    "    if res_rms < 1e-11:\n",
    "        break"
   ]
  },
  {
   "cell_type": "markdown",
   "id": "4f74b6e9",
   "metadata": {},
   "source": [
    "## Plot Solution"
   ]
  },
  {
   "cell_type": "code",
   "execution_count": 7,
   "id": "3920bb3b-4f52-4c8f-a0a4-37fbd4e5a817",
   "metadata": {},
   "outputs": [
    {
     "data": {
      "text/plain": [
       "[<matplotlib.lines.Line2D at 0x7fb75a497df0>]"
      ]
     },
     "execution_count": 7,
     "metadata": {},
     "output_type": "execute_result"
    },
    {
     "data": {
      "image/png": "[encoded data removed]",
      "text/plain": [
       "<Figure size 432x288 with 1 Axes>"
      ]
     },
     "metadata": {
      "needs_background": "light"
     },
     "output_type": "display_data"
    }
   ],
   "source": [
    "plt.plot(solver.sol_grid.x, solver.sol_grid.val)"
   ]
  }
 ],
 "metadata": {
  "kernelspec": {
   "display_name": "Python 3.9.13 ('venv': venv)",
   "language": "python",
   "name": "python3"
  },
  "language_info": {
   "codemirror_mode": {
    "name": "ipython",
    "version": 3
   },
   "file_extension": ".py",
   "mimetype": "text/x-python",
   "name": "python",
   "nbconvert_exporter": "python",
   "pygments_lexer": "ipython3",
   "version": "3.9.13"
  },
  "vscode": {
   "interpreter": {
    "hash": "94acf0db5c9694a47ace1f3b99950a1b5197d6c9b79eac18af25cc1fa2f09c15"
   }
  }
 },
 "nbformat": 4,
 "nbformat_minor": 5
}
