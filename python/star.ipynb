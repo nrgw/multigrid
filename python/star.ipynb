{
 "cells": [
  {
   "cell_type": "code",
   "execution_count": 1,
   "id": "4865f9f8-fdce-4c68-a81a-b34abb2afc33",
   "metadata": {},
   "outputs": [],
   "source": [
    "import numpy as np\n",
    "import matplotlib.pyplot as plt\n",
    "from multigrid import BVP, BVPSolver"
   ]
  },
  {
   "cell_type": "code",
   "execution_count": 2,
   "id": "3f295e18-5979-4ade-81b4-2443cb99c2bc",
   "metadata": {},
   "outputs": [],
   "source": [
    "def relax_left(sol, src, s, h):\n",
    "    return sol[1] - src[0]*h**2/6\n",
    "\n",
    "def relax_middle(sol, src, s, h, i):\n",
    "    return (\n",
    "        + sol[i + 1]*(1 + h/s)\n",
    "        + sol[i - 1]*(1 - h/s)\n",
    "        - src[i]*h**2\n",
    "    )/2\n",
    "\n",
    "def relax_right(sol, src, s, h):\n",
    "    return 0\n",
    "\n",
    "def residual_left(sol, src, s, h):\n",
    "    return -(relax_left(sol, src, s, h) - sol[0])*6/h**2\n",
    "\n",
    "def residual_middle(sol, src, s, h, i):\n",
    "    return -(relax_middle(sol, src, s, h, i) - sol[i])*2/h**2\n",
    "\n",
    "def residual_right(sol, src, s, h):\n",
    "    return 0"
   ]
  },
  {
   "cell_type": "code",
   "execution_count": 3,
   "id": "13adbaf8",
   "metadata": {},
   "outputs": [],
   "source": [
    "r_s = 8\n",
    "rho_c = 1.28e-3\n",
    "\n",
    "def src(s):\n",
    "    if s < 0.5:\n",
    "        rho = rho_c*(1 - (s / (1 - s))**2)\n",
    "        return 4*np.pi*rho*r_s**2*(1 - s)**(-4)\n",
    "    else:\n",
    "        return 0\n",
    "\n",
    "def exact_sol(s):\n",
    "    if s < 0.5:\n",
    "        a = s/(1 - s)\n",
    "        return -2*np.pi*rho_c*r_s**2*(1/2 - a**2/3 + a**4/10)\n",
    "    else:\n",
    "        return -8/15*np.pi*rho_c*r_s**2*(1 - s)/s"
   ]
  },
  {
   "cell_type": "code",
   "execution_count": 4,
   "id": "2271bdf5-7698-4397-a848-7f7844884259",
   "metadata": {},
   "outputs": [],
   "source": [
    "s1 = 0\n",
    "s2 = 1\n",
    "bvp = BVP(s1, s2, relax_left, relax_middle, relax_right, residual_left, residual_middle, residual_right, src, exact_sol_func=exact_sol)\n",
    "n = 9\n",
    "solver = BVPSolver(bvp, n=n)"
   ]
  },
  {
   "cell_type": "code",
   "execution_count": 5,
   "id": "1b9a90f4",
   "metadata": {},
   "outputs": [
    {
     "name": "stdout",
     "output_type": "stream",
     "text": [
      "1 11.963711284295753 0.009469036123790622\n",
      "2 1.4412897490427579 0.006903064422200395\n",
      "3 1.2178581759488014 0.001484296500577829\n",
      "4 0.32076709165048356 0.00018928645667105453\n",
      "5 0.04021264461977098 0.0003784031800162114\n",
      "6 0.03190684980438353 0.0003508739950925258\n",
      "7 0.00795808515708838 0.00033890353608418506\n",
      "8 0.0022940168726719844 0.00033625315625706816\n",
      "9 0.0008664614738055733 0.00033621438384994325\n",
      "10 0.0002458720614897614 0.00033623718324048125\n",
      "11 7.838194120906303e-05 0.000336264934412672\n",
      "12 2.5264260726558423e-05 0.0003362651612158671\n",
      "13 7.740578183806671e-06 0.0003362662319226498\n",
      "14 2.4580040086316364e-06 0.000336265877453486\n",
      "15 7.693272374334446e-07 0.0003362659415522003\n",
      "16 2.4112616172923977e-07 0.00033626590907908207\n",
      "17 7.600556012964131e-08 0.0003362659175947759\n",
      "18 2.3831805796337296e-08 0.00033626591490640154\n",
      "19 7.482331342814232e-09 0.00033626591574105447\n",
      "20 2.3317320198937955e-09 0.00033626591556866573\n",
      "21 7.22510120375621e-10 0.0003362659156207214\n",
      "22 2.0262014098771134e-10 0.00033626591560985565\n",
      "23 3.346009403153241e-11 0.00033626591559663115\n",
      "24 7.949399645694765e-12 0.00033626591559701496\n"
     ]
    }
   ],
   "source": [
    "# phi_exact = phi_exact_func(r_func(phi.x, r_s), r_s, rho_c)\n",
    "i = 0\n",
    "phi = None\n",
    "while True:\n",
    "    i += 1\n",
    "    solver.solve()\n",
    "    res_rms = solver.residual().rms()\n",
    "    print(i, res_rms, solver.exact_error().rms())\n",
    "    if res_rms < 1e-11:\n",
    "        break"
   ]
  },
  {
   "cell_type": "code",
   "execution_count": 6,
   "id": "3920bb3b-4f52-4c8f-a0a4-37fbd4e5a817",
   "metadata": {},
   "outputs": [
    {
     "data": {
      "text/plain": [
       "[<matplotlib.lines.Line2D at 0x7f40450980d0>]"
      ]
     },
     "execution_count": 6,
     "metadata": {},
     "output_type": "execute_result"
    },
    {
     "data": {
      "image/png": "[encoded data removed]",
      "text/plain": [
       "<Figure size 432x288 with 1 Axes>"
      ]
     },
     "metadata": {
      "needs_background": "light"
     },
     "output_type": "display_data"
    }
   ],
   "source": [
    "plt.plot(solver.sol_grid.x, solver.sol_grid.val)"
   ]
  }
 ],
 "metadata": {
  "kernelspec": {
   "display_name": "Python 3.9.13 ('venv': venv)",
   "language": "python",
   "name": "python3"
  },
  "language_info": {
   "codemirror_mode": {
    "name": "ipython",
    "version": 3
   },
   "file_extension": ".py",
   "mimetype": "text/x-python",
   "name": "python",
   "nbconvert_exporter": "python",
   "pygments_lexer": "ipython3",
   "version": "3.9.13"
  },
  "vscode": {
   "interpreter": {
    "hash": "94acf0db5c9694a47ace1f3b99950a1b5197d6c9b79eac18af25cc1fa2f09c15"
   }
  }
 },
 "nbformat": 4,
 "nbformat_minor": 5
}
